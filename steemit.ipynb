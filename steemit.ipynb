{
 "cells": [
  {
   "cell_type": "code",
   "execution_count": 1,
   "metadata": {},
   "outputs": [],
   "source": [
    "import requests\n",
    "from bs4 import BeautifulSoup\n",
    "\n",
    "STEEMIT = \"https://steemit.com\"\n",
    "\n",
    "# 새글 q 검색어로 링크만 가져오기\n",
    "def get_created_link(q):\n",
    "    link_list = []\n",
    "    r = requests.get(\"https://steemit.com/created/%s\" % q)\n",
    "    html = r.text\n",
    "    soup = BeautifulSoup(html, 'html.parser')\n",
    "    links = soup.findAll('h2', {'class':'articles__h2 entry-title'})\n",
    "    for link in links:\n",
    "        a = link.find_all(\"a\")\n",
    "        link_list.append(a[0]['href'])\n",
    "    return link_list\n",
    "\n",
    "links = get_created_link('eos')"
   ]
  },
  {
   "cell_type": "code",
   "execution_count": 2,
   "metadata": {},
   "outputs": [
    {
     "data": {
      "text/plain": [
       "['/eos/@eosforce/japan-s-largest-ico-platform-conjinja-is-announcing-its-candidacy-to-become-eosforce-io-s-block-producer',\n",
       " '/bitcoin/@bitemper/2018-07-24-and',\n",
       " '/eos/@bitgeek/eos-price-forecast---24th-july',\n",
       " '/eos/@byvt/2smoea-eos-signal',\n",
       " '/eos/@luigiborla/5b6pmh-eos-btc-elliot-wave-analysis',\n",
       " '/eos/@ackza/im-going-to-take-a-risk-and-put-100-1000-2018-07-24-12-40-17',\n",
       " '/blockproducer/@eosargentina/system-contract-upgrade-proposal',\n",
       " '/bitcoin/@onlineprds/bitcoin-price-jumped-6-70-edges-past-usd8200',\n",
       " '/eos/@ash/wizards-one-how-to-evaluate-your-wizard-and-why-i-would-not-sell-any',\n",
       " '/eos/@eosraychain/41mzk2-news-daily',\n",
       " '/eos/@imeos/imeos-horuspay-eosio',\n",
       " '/btc/@thecastle/this-looks-a-hell-of-a-lot-like-last-year',\n",
       " '/eos/@eoscannon/eos-eos-family-day',\n",
       " '/eos/@eosisrael/representing-block-producers-at-the-eos-governance-forum-are-eyal-and-adar',\n",
       " '/parley-eos/@ludevielucero/20180724t095336887z',\n",
       " '/coinkorea/@stonecone/sns-ono-tip',\n",
       " '/eos/@cryptoslicex/eos-black-review-eos-airdrop',\n",
       " '/bitcoin/@davidconstantine/bitcoin-on-the-rise',\n",
       " '/kr/@holcoin/vs-eos-bp',\n",
       " '/eos/@eos.sweden/urdu-hindi-blockchain-use-case-and-pakistani-election']"
      ]
     },
     "execution_count": 2,
     "metadata": {},
     "output_type": "execute_result"
    }
   ],
   "source": [
    "links"
   ]
  },
  {
   "cell_type": "code",
   "execution_count": 3,
   "metadata": {},
   "outputs": [
    {
     "name": "stdout",
     "output_type": "stream",
     "text": [
      "eosforce japan-s-largest-ico-platform-conjinja-is-announcing-its-candidacy-to-become-eosforce-io-s-block-producer\n"
     ]
    }
   ],
   "source": [
    "link = links[0]\n",
    "link_split = link.split('/')\n",
    "steemit_id = link_split[2].replace('@','')\n",
    "permlink = link_split[3]\n",
    "print(steemit_id, permlink)"
   ]
  },
  {
   "cell_type": "code",
   "execution_count": 5,
   "metadata": {},
   "outputs": [
    {
     "data": {
      "text/plain": [
       "{'id': 57582027,\n",
       " 'author': 'eosforce',\n",
       " 'permlink': 'japan-s-largest-ico-platform-conjinja-is-announcing-its-candidacy-to-become-eosforce-io-s-block-producer',\n",
       " 'category': 'eos',\n",
       " 'parent_author': '',\n",
       " 'parent_permlink': 'eos',\n",
       " 'title': 'Japan’s Largest ICO Platform ConJinja is Announcing its Candidacy to Become EOSForce.io’s Block Producer',\n",
       " 'body': 'CoinJinja is Japan’s largest ICO information platform, which also operates Japan’s largest crypto market information software CoinView.  Today Conjinja announced that its candidacy to become one of EOSForce.io mainnet’s block producers. \\n\\nIn addition to joining EOSForce.io, CoinJinja will also add a DApps community section to its CoinView software.  CoinJinja hopes to leverage its DApps community feature to find development teams that could develop online DApp based games.  Voters who support CoinJinja’s EOSForce node - the forceofjinja - will be rewarded free CoinJinja’s game tokens on a 1:1 ratio to the amount of EOSCOINs they have. \\n\\nThe EOSForce community is the first to launch its own EOS mainnet in addition to EMLG.  The community aims to provide an EOS mainnet with multiple efficient and inclusive underlying protocols.  It is the most open and innovative EOS community in the current EOS ecosystem.  As of right now, the code for the EOSForce mainnet has been uploaded to github (Github.com/eosforce) and is open for all to use.  Approximately 100 communities around the world have participated in the candidacy to become one of the block producers for EOSForce.io.',\n",
       " 'json_metadata': '{\"tags\":[\"eos\",\"eosforce\"],\"app\":\"steemit/0.1\",\"format\":\"markdown\"}',\n",
       " 'last_update': '2018-07-24T13:26:30',\n",
       " 'created': '2018-07-24T13:26:30',\n",
       " 'active': '2018-07-24T13:26:30',\n",
       " 'last_payout': '1970-01-01T00:00:00',\n",
       " 'depth': 0,\n",
       " 'children': 0,\n",
       " 'net_rshares': 0,\n",
       " 'abs_rshares': 0,\n",
       " 'vote_rshares': 0,\n",
       " 'children_abs_rshares': 0,\n",
       " 'cashout_time': '2018-07-31T13:26:30',\n",
       " 'max_cashout_time': '1969-12-31T23:59:59',\n",
       " 'total_vote_weight': 0,\n",
       " 'reward_weight': 10000,\n",
       " 'total_payout_value': '0.000 SBD',\n",
       " 'curator_payout_value': '0.000 SBD',\n",
       " 'author_rewards': 0,\n",
       " 'net_votes': 0,\n",
       " 'root_author': 'eosforce',\n",
       " 'root_permlink': 'japan-s-largest-ico-platform-conjinja-is-announcing-its-candidacy-to-become-eosforce-io-s-block-producer',\n",
       " 'max_accepted_payout': '1000000.000 SBD',\n",
       " 'percent_steem_dollars': 10000,\n",
       " 'allow_replies': True,\n",
       " 'allow_votes': True,\n",
       " 'allow_curation_rewards': True,\n",
       " 'beneficiaries': [],\n",
       " 'url': '/eos/@eosforce/japan-s-largest-ico-platform-conjinja-is-announcing-its-candidacy-to-become-eosforce-io-s-block-producer',\n",
       " 'root_title': 'Japan’s Largest ICO Platform ConJinja is Announcing its Candidacy to Become EOSForce.io’s Block Producer',\n",
       " 'pending_payout_value': '0.000 SBD',\n",
       " 'total_pending_payout_value': '0.000 STEEM',\n",
       " 'active_votes': [],\n",
       " 'replies': [],\n",
       " 'author_reputation': 306264350,\n",
       " 'promoted': '0.000 SBD',\n",
       " 'body_length': 0,\n",
       " 'reblogged_by': []}"
      ]
     },
     "execution_count": 5,
     "metadata": {},
     "output_type": "execute_result"
    }
   ],
   "source": [
    "from steem import Steem\n",
    "s = Steem()\n",
    "#s.get_content('equ1l1br1um','airdrop-alert-500usd-giveaway')\n",
    "ss = s.get_content(steemit_id,permlink)\n",
    "ss"
   ]
  },
  {
   "cell_type": "raw",
   "metadata": {},
   "source": [
    "r = requests.get(\"https://steemit.com/eos/@bitgeek/eos-price-forecast---24th-july\")\n",
    "html = r.text\n",
    "soup = BeautifulSoup(html, 'html.parser')\n",
    "titles = soup.find_all('h1',{'class':'entry-title'})\n",
    "title = titles[0].text\n",
    "dt = soup.find_all('span',{'class':'updated'})\n",
    "bodies = soup.find_all('div',{'class':'PostFull__body entry-content'})\n",
    "body = bodies[0].text\n",
    "print(title) # 글제목\n",
    "print(dt[0]['title']) # GMT 시간\n",
    "print(body) # 내용"
   ]
  },
  {
   "cell_type": "code",
   "execution_count": null,
   "metadata": {},
   "outputs": [],
   "source": []
  }
 ],
 "metadata": {
  "kernelspec": {
   "display_name": "Python 3",
   "language": "python",
   "name": "python3"
  },
  "language_info": {
   "codemirror_mode": {
    "name": "ipython",
    "version": 3
   },
   "file_extension": ".py",
   "mimetype": "text/x-python",
   "name": "python",
   "nbconvert_exporter": "python",
   "pygments_lexer": "ipython3",
   "version": "3.6.6"
  }
 },
 "nbformat": 4,
 "nbformat_minor": 2
}
